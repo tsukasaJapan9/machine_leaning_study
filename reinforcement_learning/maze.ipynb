{
 "cells": [
  {
   "cell_type": "code",
   "execution_count": 2,
   "id": "96ce70fb-ecad-4ef3-b85a-8f2efd7fb824",
   "metadata": {},
   "outputs": [],
   "source": [
    "import numpy as np\n",
    "import matplotlib.pyplot as plt\n",
    "%matplotlib inline"
   ]
  },
  {
   "cell_type": "code",
   "execution_count": 3,
   "id": "65694701-27cd-4058-970f-494e0ef3a260",
   "metadata": {},
   "outputs": [
    {
     "data": {
      "image/png": "[encoded data removed]",
      "text/plain": [
       "<Figure size 500x500 with 1 Axes>"
      ]
     },
     "metadata": {},
     "output_type": "display_data"
    }
   ],
   "source": [
    "# 図を描く大きさと、図の変数名を宣言\n",
    "fig = plt.figure(figsize=(5, 5))\n",
    "ax = fig.add_subplot()\n",
    "\n",
    "# 赤い壁を描く\n",
    "ax.plot([1, 1], [0, 1], color='red', linewidth=2)\n",
    "ax.plot([1, 2], [2, 2], color='red', linewidth=2)\n",
    "ax.plot([2, 2], [2, 1], color='red', linewidth=2)\n",
    "ax.plot([2, 3], [1, 1], color='red', linewidth=2)\n",
    "\n",
    "# 状態を示す文字S0～S8を描く\n",
    "ax.text(0.5, 2.5, 'S0', size=14, ha='center')\n",
    "ax.text(1.5, 2.5, 'S1', size=14, ha='center')\n",
    "ax.text(2.5, 2.5, 'S2', size=14, ha='center')\n",
    "ax.text(0.5, 1.5, 'S3', size=14, ha='center')\n",
    "ax.text(1.5, 1.5, 'S4', size=14, ha='center')\n",
    "ax.text(2.5, 1.5, 'S5', size=14, ha='center')\n",
    "ax.text(0.5, 0.5, 'S6', size=14, ha='center')\n",
    "ax.text(1.5, 0.5, 'S7', size=14, ha='center')\n",
    "ax.text(2.5, 0.5, 'S8', size=14, ha='center')\n",
    "ax.text(0.5, 2.3, 'START', ha='center')\n",
    "ax.text(2.5, 0.3, 'GOAL', ha='center')\n",
    "\n",
    "# 描画範囲の設定と目盛りを消す設定\n",
    "ax.set_xlim(0, 3)\n",
    "ax.set_ylim(0, 3)\n",
    "ax.tick_params(axis='both', which='both', bottom='off', top='off',\n",
    "                labelbottom='off', right='off', left='off', labelleft='off')\n",
    "\n",
    "# 現在地S0に緑丸を描画する\n",
    "line, = ax.plot([0.5], [2.5], marker=\"o\", color='g', markersize=60)"
   ]
  },
  {
   "cell_type": "code",
   "execution_count": 4,
   "id": "1c3e1148-b6cc-4705-aef2-694198257108",
   "metadata": {},
   "outputs": [
    {
     "data": {
      "text/plain": [
       "array([[nan,  1.,  1., nan],\n",
       "       [nan,  1., nan,  1.],\n",
       "       [nan, nan,  1.,  1.],\n",
       "       [ 1.,  1.,  1., nan],\n",
       "       [nan, nan,  1.,  1.],\n",
       "       [ 1., nan, nan, nan],\n",
       "       [ 1., nan, nan, nan],\n",
       "       [ 1.,  1., nan, nan]])"
      ]
     },
     "execution_count": 4,
     "metadata": {},
     "output_type": "execute_result"
    }
   ],
   "source": [
    "# 行は状態0～7、列は移動方向で↑、→、↓、←を表す\n",
    "theta_0 = np.array([[np.nan, 1, 1, np.nan],  # s0\n",
    "                    [np.nan, 1, np.nan, 1],  # s1\n",
    "                    [np.nan, np.nan, 1, 1],  # s2\n",
    "                    [1, 1, 1, np.nan],  # s3\n",
    "                    [np.nan, np.nan, 1, 1],  # s4\n",
    "                    [1, np.nan, np.nan, np.nan],  # s5\n",
    "                    [1, np.nan, np.nan, np.nan],  # s6\n",
    "                    [1, 1, np.nan, np.nan],  # s7、※s8はゴールなので、方策はなし\n",
    "                    ])\n",
    "theta_0"
   ]
  },
  {
   "cell_type": "code",
   "execution_count": 33,
   "id": "cba4b648-2697-41ac-ade7-cc57c0b2ac11",
   "metadata": {},
   "outputs": [],
   "source": [
    "def simple_convert_into_pi_from_theta(theta):\n",
    "    row, col = theta.shape\n",
    "    pi = np.zeros((row, col))\n",
    "    for i in range(0, row):\n",
    "        # nansum: nanを除外した合計\n",
    "        pi[i, :] = theta[i, :] / np.nansum(theta[i, :])\n",
    "    return np.nan_to_num(pi)\n",
    "    \n",
    "def softmax_convert_into_pi_from_theta(theta):\n",
    "    beta = 1.0\n",
    "    row, col = theta.shape\n",
    "    pi = np.zeros((row, col))\n",
    "    exp_theta = np.exp(beta * theta)\n",
    "    for i in range(0, row):\n",
    "        # nansum: nanを除外した合計\n",
    "        pi[i, :] = exp_theta[i, :] / np.nansum(exp_theta[i, :])\n",
    "    return np.nan_to_num(pi)\n",
    "\n",
    "def update_theta(theta, pi, state_action_history):\n",
    "    eta = 0.1\n",
    "    total = len(state_action_history) - 1\n",
    "    row, col = theta.shape\n",
    "    delta_theta = theta.copy()\n",
    "    for i in range(0, row):\n",
    "        for j in range(0, col):\n",
    "            if not np.isnan(theta[i, j]):\n",
    "                # actionがiと同じものを取り出す\n",
    "                state_action_i = [sa for sa in state_action_history if sa[0] == i]\n",
    "                # actionがi、stateがjのものを取り出す\n",
    "                state_action_ij = [sa for sa in state_action_history if sa == [i, j]]\n",
    "                delta_theta[i, j] = (len(state_action_ij) + pi[i, j] * len(state_action_i)) / total\n",
    "    return theta + eta * delta_theta\n",
    "\n",
    "# pi_0 = simple_convert_into_pi_from_theta(theta_0)\n",
    "# new_theta = update_theta(theta_0, pi_0, state_action_history)\n",
    "# pi = softmax_convert_into_pi_from_theta(new_theta)\n",
    "# pi"
   ]
  },
  {
   "cell_type": "code",
   "execution_count": 34,
   "id": "cb199b5c-b767-46e6-bca7-6b19ec62a58a",
   "metadata": {},
   "outputs": [],
   "source": [
    "def get_next_state(pi, state):\n",
    "    direction = [\"up\", \"right\", \"down\", \"left\"]\n",
    "    next_direction = np.random.choice(direction, p=pi[state, :])\n",
    "    if next_direction == \"up\":\n",
    "        state_next = state - 3\n",
    "    elif next_direction == \"right\":\n",
    "        state_next = state + 1\n",
    "    elif next_direction == \"down\":\n",
    "        state_next = state + 3\n",
    "    elif next_direction == \"left\":\n",
    "        state_next = state - 1\n",
    "    return state_next\n",
    "\n",
    "def get_action_and_next_state(pi, state):\n",
    "    direction = [\"up\", \"right\", \"down\", \"left\"]\n",
    "    next_direction = np.random.choice(direction, p=pi[state, :])\n",
    "    if next_direction == \"up\":\n",
    "        action = 0\n",
    "        state_next = state - 3\n",
    "    elif next_direction == \"right\":\n",
    "        action = 1\n",
    "        state_next = state + 1\n",
    "    elif next_direction == \"down\":\n",
    "        action = 2\n",
    "        state_next = state + 3\n",
    "    elif next_direction == \"left\":\n",
    "        action = 3\n",
    "        state_next = state - 1\n",
    "    return action, state_next\n",
    "    \n",
    "def goal_maze(pi):\n",
    "    state = 0\n",
    "    state_history = [0]\n",
    "    while True:\n",
    "        next_state = get_next_state(pi, state)\n",
    "        state_history.append(next_state)\n",
    "        if next_state == 8:\n",
    "            break\n",
    "        else:\n",
    "            state = next_state\n",
    "    return state_history\n",
    "\n",
    "# ゴールまで探索する関数\n",
    "def goal_maze_ret_state_and_action(pi):\n",
    "    state = 0\n",
    "    state_history = [[0, np.nan]]\n",
    "    while True:\n",
    "        action, next_state = get_action_and_next_state(pi, state)\n",
    "        state_history[-1][1] = action\n",
    "        state_history.append([next_state, np.nan])\n",
    "        if next_state == 8:\n",
    "            break\n",
    "        else:\n",
    "            state = next_state\n",
    "    return state_history    "
   ]
  },
  {
   "cell_type": "code",
   "execution_count": 37,
   "id": "9063fc8a-0a9c-4f89-8388-007892b66b73",
   "metadata": {},
   "outputs": [
    {
     "name": "stdout",
     "output_type": "stream",
     "text": [
      "[[nan  1.  1. nan]\n",
      " [nan  1. nan  1.]\n",
      " [nan nan  1.  1.]\n",
      " [ 1.  1.  1. nan]\n",
      " [nan nan  1.  1.]\n",
      " [ 1. nan nan nan]\n",
      " [ 1. nan nan nan]\n",
      " [ 1.  1. nan nan]]\n",
      "[[0.         0.5        0.5        0.        ]\n",
      " [0.         0.5        0.         0.5       ]\n",
      " [0.         0.         0.5        0.5       ]\n",
      " [0.33333333 0.33333333 0.33333333 0.        ]\n",
      " [0.         0.         0.5        0.5       ]\n",
      " [1.         0.         0.         0.        ]\n",
      " [1.         0.         0.         0.        ]\n",
      " [0.5        0.5        0.         0.        ]]\n",
      "0.010021932754255669\n",
      "total step num: 93\n",
      "0.005487231241025736\n",
      "total step num: 269\n"
     ]
    }
   ],
   "source": [
    "stop_epsilon = 10 ** -2\n",
    "theta = theta_0\n",
    "pi = simple_convert_into_pi_from_theta(theta)\n",
    "\n",
    "print(theta)\n",
    "print(pi)\n",
    "\n",
    "count = 1\n",
    "\n",
    "while True:\n",
    "    state_action_history = goal_maze_ret_state_and_action(pi)\n",
    "    new_theta = update_theta(theta, pi, state_action_history)\n",
    "    new_pi = softmax_convert_into_pi_from_theta(new_theta)\n",
    "\n",
    "    diff = np.sum(np.abs(new_pi - pi))\n",
    "    print(diff)\n",
    "    print(f\"total step num: {len(state_action_history)}\")\n",
    "    \n",
    "    if diff < stop_epsilon:\n",
    "        break\n",
    "    else:\n",
    "        theta = new_theta\n",
    "        pi = new_pi\n"
   ]
  },
  {
   "cell_type": "code",
   "execution_count": 27,
   "id": "9f2bbd0e-4268-48cf-acbe-87070fe00b8b",
   "metadata": {},
   "outputs": [
    {
     "name": "stdout",
     "output_type": "stream",
     "text": [
      "state history: [[0, 2], [3, 2], [6, 0], [3, 2], [6, 0], [3, 1], [4, 2], [7, 0], [4, 3], [3, 0], [0, 1], [1, 1], [2, 3], [1, 3], [0, 1], [1, 3], [0, 1], [1, 3], [0, 2], [3, 0], [0, 1], [1, 1], [2, 3], [1, 1], [2, 3], [1, 3], [0, 1], [1, 3], [0, 1], [1, 3], [0, 2], [3, 1], [4, 2], [7, 1], [8, nan]]\n",
      "step num: 35\n"
     ]
    },
    {
     "ename": "TypeError",
     "evalue": "unsupported operand type(s) for %: 'list' and 'int'",
     "output_type": "error",
     "traceback": [
      "\u001b[0;31m---------------------------------------------------------------------------\u001b[0m",
      "\u001b[0;31mTypeError\u001b[0m                                 Traceback (most recent call last)",
      "Input \u001b[0;32mIn [27]\u001b[0m, in \u001b[0;36m<cell line: 22>\u001b[0;34m()\u001b[0m\n\u001b[1;32m     19\u001b[0m     \u001b[38;5;28;01mreturn\u001b[39;00m line,\n\u001b[1;32m     21\u001b[0m anim \u001b[38;5;241m=\u001b[39m animation\u001b[38;5;241m.\u001b[39mFuncAnimation(fig, animate, init_func\u001b[38;5;241m=\u001b[39minit, frames\u001b[38;5;241m=\u001b[39m\u001b[38;5;28mlen\u001b[39m(state_history), interval\u001b[38;5;241m=\u001b[39m\u001b[38;5;241m200\u001b[39m, repeat\u001b[38;5;241m=\u001b[39m\u001b[38;5;28;01mFalse\u001b[39;00m)\n\u001b[0;32m---> 22\u001b[0m HTML(\u001b[43manim\u001b[49m\u001b[38;5;241;43m.\u001b[39;49m\u001b[43mto_jshtml\u001b[49m\u001b[43m(\u001b[49m\u001b[43m)\u001b[49m)\n",
      "File \u001b[0;32m~/.pyenv/versions/3.8.10/lib/python3.8/site-packages/matplotlib/animation.py:1402\u001b[0m, in \u001b[0;36mAnimation.to_jshtml\u001b[0;34m(self, fps, embed_frames, default_mode)\u001b[0m\n\u001b[1;32m   1398\u001b[0m         path \u001b[38;5;241m=\u001b[39m Path(tmpdir, \u001b[38;5;124m\"\u001b[39m\u001b[38;5;124mtemp.html\u001b[39m\u001b[38;5;124m\"\u001b[39m)\n\u001b[1;32m   1399\u001b[0m         writer \u001b[38;5;241m=\u001b[39m HTMLWriter(fps\u001b[38;5;241m=\u001b[39mfps,\n\u001b[1;32m   1400\u001b[0m                             embed_frames\u001b[38;5;241m=\u001b[39membed_frames,\n\u001b[1;32m   1401\u001b[0m                             default_mode\u001b[38;5;241m=\u001b[39mdefault_mode)\n\u001b[0;32m-> 1402\u001b[0m         \u001b[38;5;28;43mself\u001b[39;49m\u001b[38;5;241;43m.\u001b[39;49m\u001b[43msave\u001b[49m\u001b[43m(\u001b[49m\u001b[38;5;28;43mstr\u001b[39;49m\u001b[43m(\u001b[49m\u001b[43mpath\u001b[49m\u001b[43m)\u001b[49m\u001b[43m,\u001b[49m\u001b[43m \u001b[49m\u001b[43mwriter\u001b[49m\u001b[38;5;241;43m=\u001b[39;49m\u001b[43mwriter\u001b[49m\u001b[43m)\u001b[49m\n\u001b[1;32m   1403\u001b[0m         \u001b[38;5;28mself\u001b[39m\u001b[38;5;241m.\u001b[39m_html_representation \u001b[38;5;241m=\u001b[39m path\u001b[38;5;241m.\u001b[39mread_text()\n\u001b[1;32m   1405\u001b[0m \u001b[38;5;28;01mreturn\u001b[39;00m \u001b[38;5;28mself\u001b[39m\u001b[38;5;241m.\u001b[39m_html_representation\n",
      "File \u001b[0;32m~/.pyenv/versions/3.8.10/lib/python3.8/site-packages/matplotlib/animation.py:1173\u001b[0m, in \u001b[0;36mAnimation.save\u001b[0;34m(self, filename, writer, fps, dpi, codec, bitrate, extra_args, metadata, extra_anim, savefig_kwargs, progress_callback)\u001b[0m\n\u001b[1;32m   1170\u001b[0m \u001b[38;5;28;01mfor\u001b[39;00m data \u001b[38;5;129;01min\u001b[39;00m \u001b[38;5;28mzip\u001b[39m(\u001b[38;5;241m*\u001b[39m[a\u001b[38;5;241m.\u001b[39mnew_saved_frame_seq() \u001b[38;5;28;01mfor\u001b[39;00m a \u001b[38;5;129;01min\u001b[39;00m all_anim]):\n\u001b[1;32m   1171\u001b[0m     \u001b[38;5;28;01mfor\u001b[39;00m anim, d \u001b[38;5;129;01min\u001b[39;00m \u001b[38;5;28mzip\u001b[39m(all_anim, data):\n\u001b[1;32m   1172\u001b[0m         \u001b[38;5;66;03m# TODO: See if turning off blit is really necessary\u001b[39;00m\n\u001b[0;32m-> 1173\u001b[0m         \u001b[43manim\u001b[49m\u001b[38;5;241;43m.\u001b[39;49m\u001b[43m_draw_next_frame\u001b[49m\u001b[43m(\u001b[49m\u001b[43md\u001b[49m\u001b[43m,\u001b[49m\u001b[43m \u001b[49m\u001b[43mblit\u001b[49m\u001b[38;5;241;43m=\u001b[39;49m\u001b[38;5;28;43;01mFalse\u001b[39;49;00m\u001b[43m)\u001b[49m\n\u001b[1;32m   1174\u001b[0m         \u001b[38;5;28;01mif\u001b[39;00m progress_callback \u001b[38;5;129;01mis\u001b[39;00m \u001b[38;5;129;01mnot\u001b[39;00m \u001b[38;5;28;01mNone\u001b[39;00m:\n\u001b[1;32m   1175\u001b[0m             progress_callback(frame_number, total_frames)\n",
      "File \u001b[0;32m~/.pyenv/versions/3.8.10/lib/python3.8/site-packages/matplotlib/animation.py:1208\u001b[0m, in \u001b[0;36mAnimation._draw_next_frame\u001b[0;34m(self, framedata, blit)\u001b[0m\n\u001b[1;32m   1204\u001b[0m \u001b[38;5;28;01mdef\u001b[39;00m \u001b[38;5;21m_draw_next_frame\u001b[39m(\u001b[38;5;28mself\u001b[39m, framedata, blit):\n\u001b[1;32m   1205\u001b[0m     \u001b[38;5;66;03m# Breaks down the drawing of the next frame into steps of pre- and\u001b[39;00m\n\u001b[1;32m   1206\u001b[0m     \u001b[38;5;66;03m# post- draw, as well as the drawing of the frame itself.\u001b[39;00m\n\u001b[1;32m   1207\u001b[0m     \u001b[38;5;28mself\u001b[39m\u001b[38;5;241m.\u001b[39m_pre_draw(framedata, blit)\n\u001b[0;32m-> 1208\u001b[0m     \u001b[38;5;28;43mself\u001b[39;49m\u001b[38;5;241;43m.\u001b[39;49m\u001b[43m_draw_frame\u001b[49m\u001b[43m(\u001b[49m\u001b[43mframedata\u001b[49m\u001b[43m)\u001b[49m\n\u001b[1;32m   1209\u001b[0m     \u001b[38;5;28mself\u001b[39m\u001b[38;5;241m.\u001b[39m_post_draw(framedata, blit)\n",
      "File \u001b[0;32m~/.pyenv/versions/3.8.10/lib/python3.8/site-packages/matplotlib/animation.py:1776\u001b[0m, in \u001b[0;36mFuncAnimation._draw_frame\u001b[0;34m(self, framedata)\u001b[0m\n\u001b[1;32m   1772\u001b[0m \u001b[38;5;28mself\u001b[39m\u001b[38;5;241m.\u001b[39m_save_seq \u001b[38;5;241m=\u001b[39m \u001b[38;5;28mself\u001b[39m\u001b[38;5;241m.\u001b[39m_save_seq[\u001b[38;5;241m-\u001b[39m\u001b[38;5;28mself\u001b[39m\u001b[38;5;241m.\u001b[39msave_count:]\n\u001b[1;32m   1774\u001b[0m \u001b[38;5;66;03m# Call the func with framedata and args. If blitting is desired,\u001b[39;00m\n\u001b[1;32m   1775\u001b[0m \u001b[38;5;66;03m# func needs to return a sequence of any artists that were modified.\u001b[39;00m\n\u001b[0;32m-> 1776\u001b[0m \u001b[38;5;28mself\u001b[39m\u001b[38;5;241m.\u001b[39m_drawn_artists \u001b[38;5;241m=\u001b[39m \u001b[38;5;28;43mself\u001b[39;49m\u001b[38;5;241;43m.\u001b[39;49m\u001b[43m_func\u001b[49m\u001b[43m(\u001b[49m\u001b[43mframedata\u001b[49m\u001b[43m,\u001b[49m\u001b[43m \u001b[49m\u001b[38;5;241;43m*\u001b[39;49m\u001b[38;5;28;43mself\u001b[39;49m\u001b[38;5;241;43m.\u001b[39;49m\u001b[43m_args\u001b[49m\u001b[43m)\u001b[49m\n\u001b[1;32m   1778\u001b[0m \u001b[38;5;28;01mif\u001b[39;00m \u001b[38;5;28mself\u001b[39m\u001b[38;5;241m.\u001b[39m_blit:\n\u001b[1;32m   1780\u001b[0m     err \u001b[38;5;241m=\u001b[39m \u001b[38;5;167;01mRuntimeError\u001b[39;00m(\u001b[38;5;124m'\u001b[39m\u001b[38;5;124mThe animation function must return a sequence \u001b[39m\u001b[38;5;124m'\u001b[39m\n\u001b[1;32m   1781\u001b[0m                        \u001b[38;5;124m'\u001b[39m\u001b[38;5;124mof Artist objects.\u001b[39m\u001b[38;5;124m'\u001b[39m)\n",
      "Input \u001b[0;32mIn [27]\u001b[0m, in \u001b[0;36manimate\u001b[0;34m(i)\u001b[0m\n\u001b[1;32m     14\u001b[0m \u001b[38;5;28;01mdef\u001b[39;00m \u001b[38;5;21manimate\u001b[39m(i):\n\u001b[1;32m     15\u001b[0m     state \u001b[38;5;241m=\u001b[39m state_history[i]\n\u001b[0;32m---> 16\u001b[0m     x \u001b[38;5;241m=\u001b[39m (\u001b[43mstate\u001b[49m\u001b[43m \u001b[49m\u001b[38;5;241;43m%\u001b[39;49m\u001b[43m \u001b[49m\u001b[38;5;241;43m3\u001b[39;49m) \u001b[38;5;241m+\u001b[39m \u001b[38;5;241m0.5\u001b[39m\n\u001b[1;32m     17\u001b[0m     y \u001b[38;5;241m=\u001b[39m \u001b[38;5;241m2.5\u001b[39m \u001b[38;5;241m-\u001b[39m \u001b[38;5;28mint\u001b[39m(state \u001b[38;5;241m/\u001b[39m \u001b[38;5;241m3\u001b[39m)\n\u001b[1;32m     18\u001b[0m     line\u001b[38;5;241m.\u001b[39mset_data(x, y)\n",
      "\u001b[0;31mTypeError\u001b[0m: unsupported operand type(s) for %: 'list' and 'int'"
     ]
    }
   ],
   "source": [
    "from matplotlib import animation\n",
    "from IPython.display import HTML\n",
    "\n",
    "# state_history = goal_maze(pi_0)\n",
    "# state_history = goal_maze_ret_state_and_action(pi_0)\n",
    "\n",
    "# print(f\"state history: {state_history}\")\n",
    "# print(f\"step num: {len(state_history)}\")\n",
    "\n",
    "\n",
    "def init():\n",
    "    line.set_data([], [])\n",
    "    return line,\n",
    "\n",
    "def animate(i):\n",
    "    state = state_history[i]\n",
    "    x = (state % 3) + 0.5\n",
    "    y = 2.5 - int(state / 3)\n",
    "    line.set_data(x, y)\n",
    "    return line,\n",
    "\n",
    "# anim = animation.FuncAnimation(fig, animate, init_func=init, frames=len(state_history), interval=200, repeat=False)\n",
    "# HTML(anim.to_jshtml())"
   ]
  },
  {
   "cell_type": "code",
   "execution_count": null,
   "id": "4da54301-0d38-4fa6-9518-f4b8a76a1ffa",
   "metadata": {},
   "outputs": [],
   "source": []
  },
  {
   "cell_type": "code",
   "execution_count": null,
   "id": "939b2887-d39e-4b1d-9c62-99bf58e1efe0",
   "metadata": {},
   "outputs": [],
   "source": []
  }
 ],
 "metadata": {
  "kernelspec": {
   "display_name": "Python 3 (ipykernel)",
   "language": "python",
   "name": "python3"
  },
  "language_info": {
   "codemirror_mode": {
    "name": "ipython",
    "version": 3
   },
   "file_extension": ".py",
   "mimetype": "text/x-python",
   "name": "python",
   "nbconvert_exporter": "python",
   "pygments_lexer": "ipython3",
   "version": "3.8.10"
  }
 },
 "nbformat": 4,
 "nbformat_minor": 5
}
