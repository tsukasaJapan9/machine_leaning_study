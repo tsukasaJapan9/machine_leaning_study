{
 "cells": [
  {
   "cell_type": "code",
   "execution_count": 2,
   "id": "e68922bd-da12-4f50-9efe-cd3cb2bd4c62",
   "metadata": {},
   "outputs": [],
   "source": [
    "# numpy編\n",
    "import numpy as np"
   ]
  },
  {
   "cell_type": "code",
   "execution_count": 6,
   "id": "0ea81841-ac10-4982-9c57-baaaf8701ea9",
   "metadata": {},
   "outputs": [
    {
     "name": "stdout",
     "output_type": "stream",
     "text": [
      "[0 1 2]\n",
      "[3 4 5 6 7 8 9]\n",
      "[3 5 7 9]\n",
      "[0.         0.55555556 1.11111111 1.66666667 2.22222222 2.77777778\n",
      " 3.33333333 3.88888889 4.44444444 5.        ]\n"
     ]
    }
   ],
   "source": [
    "# listの生成\n",
    "print(np.arange(3))\n",
    "print(np.arange(3, 10))\n",
    "# 増分指定\n",
    "print(np.arange(3, 10, 2))\n",
    "# 要素数指定\n",
    "print(np.linspace(0, 5, 10))"
   ]
  },
  {
   "cell_type": "code",
   "execution_count": null,
   "id": "fa15b656-321d-4aa1-a0c4-49fee20df3fe",
   "metadata": {},
   "outputs": [],
   "source": []
  }
 ],
 "metadata": {
  "kernelspec": {
   "display_name": "Python 3 (ipykernel)",
   "language": "python",
   "name": "python3"
  },
  "language_info": {
   "codemirror_mode": {
    "name": "ipython",
    "version": 3
   },
   "file_extension": ".py",
   "mimetype": "text/x-python",
   "name": "python",
   "nbconvert_exporter": "python",
   "pygments_lexer": "ipython3",
   "version": "3.8.10"
  }
 },
 "nbformat": 4,
 "nbformat_minor": 5
}
