{
 "cells": [
  {
   "cell_type": "code",
   "execution_count": 6,
   "id": "075daa0c-b85c-461a-ab57-51ea748397e2",
   "metadata": {},
   "outputs": [],
   "source": [
    "import numpy as np\n",
    "import matplotlib.pyplot as plt\n",
    "\n",
    "import gym\n",
    "from gym import wrappers\n",
    "\n",
    "%matplotlib inline"
   ]
  },
  {
   "cell_type": "code",
   "execution_count": 68,
   "id": "2e56fb1c-4be5-480c-8f69-9915caf69ba4",
   "metadata": {},
   "outputs": [
    {
     "ename": "ValueError",
     "evalue": "not enough values to unpack (expected 4, got 2)",
     "output_type": "error",
     "traceback": [
      "\u001b[0;31m---------------------------------------------------------------------------\u001b[0m",
      "\u001b[0;31mValueError\u001b[0m                                Traceback (most recent call last)",
      "Input \u001b[0;32mIn [68]\u001b[0m, in \u001b[0;36m<cell line: 10>\u001b[0;34m()\u001b[0m\n\u001b[1;32m      7\u001b[0m env \u001b[38;5;241m=\u001b[39m gym\u001b[38;5;241m.\u001b[39mmake(\u001b[38;5;124m'\u001b[39m\u001b[38;5;124mCartPole-v1\u001b[39m\u001b[38;5;124m'\u001b[39m, render_mode\u001b[38;5;241m=\u001b[39m\u001b[38;5;124m\"\u001b[39m\u001b[38;5;124mrgb_array\u001b[39m\u001b[38;5;124m\"\u001b[39m)\n\u001b[1;32m      8\u001b[0m observation \u001b[38;5;241m=\u001b[39m env\u001b[38;5;241m.\u001b[39mreset()  \u001b[38;5;66;03m# 最初に環境のresetが必要\u001b[39;00m\n\u001b[0;32m---> 10\u001b[0m \u001b[38;5;28mprint\u001b[39m(\u001b[43mdigitize_state\u001b[49m\u001b[43m(\u001b[49m\u001b[43mobservation\u001b[49m\u001b[43m)\u001b[49m)\n\u001b[1;32m     12\u001b[0m \u001b[38;5;28;01mdef\u001b[39;00m \u001b[38;5;21mbins\u001b[39m(clip_min, clip_max, num):\n\u001b[1;32m     13\u001b[0m     \u001b[38;5;28;01mreturn\u001b[39;00m np\u001b[38;5;241m.\u001b[39mlinspace(clip_min, clip_max, num \u001b[38;5;241m+\u001b[39m \u001b[38;5;241m1\u001b[39m)[\u001b[38;5;241m1\u001b[39m:\u001b[38;5;241m-\u001b[39m\u001b[38;5;241m1\u001b[39m]\n",
      "Input \u001b[0;32mIn [67]\u001b[0m, in \u001b[0;36mdigitize_state\u001b[0;34m(observation)\u001b[0m\n\u001b[1;32m     13\u001b[0m \u001b[38;5;28;01mdef\u001b[39;00m \u001b[38;5;21mdigitize_state\u001b[39m(observation):\n\u001b[0;32m---> 14\u001b[0m     cart_pos, cart_v, pole_angle, pole_v \u001b[38;5;241m=\u001b[39m observation\n\u001b[1;32m     15\u001b[0m     digitized \u001b[38;5;241m=\u001b[39m [\n\u001b[1;32m     16\u001b[0m         np\u001b[38;5;241m.\u001b[39mdigitize(cart_pos, bins\u001b[38;5;241m=\u001b[39mbins(\u001b[38;5;241m-\u001b[39m\u001b[38;5;241m2.4\u001b[39m, \u001b[38;5;241m2.4\u001b[39m, NUM_DIZITIZED)),\n\u001b[1;32m     17\u001b[0m         np\u001b[38;5;241m.\u001b[39mdigitize(cart_v, bins\u001b[38;5;241m=\u001b[39mbins(\u001b[38;5;241m-\u001b[39m\u001b[38;5;241m3.0\u001b[39m, \u001b[38;5;241m3.0\u001b[39m, NUM_DIZITIZED)),\n\u001b[1;32m     18\u001b[0m         np\u001b[38;5;241m.\u001b[39mdigitize(pole_angle, bins\u001b[38;5;241m=\u001b[39mbins(\u001b[38;5;241m-\u001b[39m\u001b[38;5;241m0.5\u001b[39m, \u001b[38;5;241m0.5\u001b[39m, NUM_DIZITIZED)),\n\u001b[1;32m     19\u001b[0m         np\u001b[38;5;241m.\u001b[39mdigitize(pole_v, bins\u001b[38;5;241m=\u001b[39mbins(\u001b[38;5;241m-\u001b[39m\u001b[38;5;241m2.0\u001b[39m, \u001b[38;5;241m2.0\u001b[39m, NUM_DIZITIZED))]\n\u001b[1;32m     20\u001b[0m     \u001b[38;5;28;01mreturn\u001b[39;00m \u001b[38;5;28msum\u001b[39m([x \u001b[38;5;241m*\u001b[39m (NUM_DIZITIZED\u001b[38;5;241m*\u001b[39m\u001b[38;5;241m*\u001b[39mi) \u001b[38;5;28;01mfor\u001b[39;00m i, x \u001b[38;5;129;01min\u001b[39;00m \u001b[38;5;28menumerate\u001b[39m(digitized)])\n",
      "\u001b[0;31mValueError\u001b[0m: not enough values to unpack (expected 4, got 2)"
     ]
    }
   ],
   "source": [
    "import time\n",
    "\n",
    "# APIが変わっているので以下確認\n",
    "# https://www.gymlibrary.dev/\n",
    "NUM_DIZITIZE = 6\n",
    "frames = []\n",
    "env = gym.make('CartPole-v1', render_mode=\"rgb_array\")\n",
    "observation = env.reset()  # 最初に環境のresetが必要\n",
    "\n",
    "def bins(clip_min, clip_max, num):\n",
    "    return np.linspace(clip_min, clip_max, num + 1)[1:-1]\n",
    "\n",
    "def digitize_state(observation):\n",
    "    cart_pos, cart_v, pole_angle, pole_v = observation\n",
    "    digitized = [\n",
    "        np.digitize(cart_pos, bins=bins(-2.4, 2.4, NUM_DIZITIZED)),\n",
    "        np.digitize(cart_v, bins=bins(-3.0, 3.0, NUM_DIZITIZED)),\n",
    "        np.digitize(pole_angle, bins=bins(-0.5, 0.5, NUM_DIZITIZED)),\n",
    "        np.digitize(pole_v, bins=bins(-2.0, 2.0, NUM_DIZITIZED))]\n",
    "    return sum([x * (NUM_DIZITIZED**i) for i, x in enumerate(digitized)])\n",
    "\n",
    "for step in range(0, 100):\n",
    "    frames.append(env.render())  # framesに各時刻の画像を追加していく\n",
    "    action = np.random.choice(2)  # 0(カートを左に押す), 1(カートを右に押す)をランダムに返す\n",
    "    env.step(action)\n",
    "    observation, reward, terminated, truncated, info = env.step(action)  # actionを実行する\n",
    "\n",
    "env.close()"
   ]
  },
  {
   "cell_type": "code",
   "execution_count": 63,
   "id": "bd5d2a51-6851-4419-bf18-70fcecda840d",
   "metadata": {},
   "outputs": [
    {
     "data": {
      "image/png": "[encoded data removed]",
      "text/plain": [
       "<Figure size 600x400 with 1 Axes>"
      ]
     },
     "metadata": {},
     "output_type": "display_data"
    }
   ],
   "source": [
    "# framesを保存する\n",
    "# ただし現状再生と保存が同時にできない\n",
    "from matplotlib import animation\n",
    "\n",
    "fig = plt.figure(figsize=(frames[0].shape[1]/72.0, frames[0].shape[0]/72.0), dpi=72)\n",
    "ax = fig.add_subplot()\n",
    "ax.axis('off')\n",
    "output_frames = [[plt.imshow(f)] for f in frames]\n",
    "anim = animation.ArtistAnimation(fig, output_frames, interval=50, repeat=False)\n",
    "anim.save(\"animation.gif\", writer=\"pillow\")"
   ]
  },
  {
   "cell_type": "code",
   "execution_count": null,
   "id": "008d4334-3141-4dc8-9597-7bf09e322adf",
   "metadata": {},
   "outputs": [],
   "source": []
  }
 ],
 "metadata": {
  "kernelspec": {
   "display_name": "Python 3 (ipykernel)",
   "language": "python",
   "name": "python3"
  },
  "language_info": {
   "codemirror_mode": {
    "name": "ipython",
    "version": 3
   },
   "file_extension": ".py",
   "mimetype": "text/x-python",
   "name": "python",
   "nbconvert_exporter": "python",
   "pygments_lexer": "ipython3",
   "version": "3.8.10"
  }
 },
 "nbformat": 4,
 "nbformat_minor": 5
}
